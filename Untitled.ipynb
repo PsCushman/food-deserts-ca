{
 "cells": [
  {
   "cell_type": "code",
   "execution_count": null,
   "id": "ccbc30cf",
   "metadata": {},
   "outputs": [],
   "source": [
    "'2015 Population vs 2015 Low Income Pop w/Low Store Access'\n",
    "The r-value is: 0.3218628056822966\n",
    "    \n",
    "'2015 Population with Low Access vs Avg 2015 Household Income'\n",
    "The r-value is: 0.05079566749323876\n",
    "    \n",
    "'2015 Population vs Avg 2015 Household Income'\n",
    "The r-value is: 0.19816173611348842\n",
    "    \n",
    "'2015 Population vs 2015 Pop w/Low Store Access'\n",
    "The r-value is: 0.6439122643229537"
   ]
  }
 ],
 "metadata": {
  "kernelspec": {
   "display_name": "Python 3 (ipykernel)",
   "language": "python",
   "name": "python3"
  },
  "language_info": {
   "codemirror_mode": {
    "name": "ipython",
    "version": 3
   },
   "file_extension": ".py",
   "mimetype": "text/x-python",
   "name": "python",
   "nbconvert_exporter": "python",
   "pygments_lexer": "ipython3",
   "version": "3.10.10"
  }
 },
 "nbformat": 4,
 "nbformat_minor": 5
}
